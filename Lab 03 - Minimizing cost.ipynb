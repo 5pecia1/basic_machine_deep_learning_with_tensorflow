{
 "cells": [
  {
   "cell_type": "markdown",
   "metadata": {},
   "source": [
    "## Simplified hypothesis\n",
    "\n",
    "$$H(x) = Wx$$\n",
    "$$cost(W) = \\frac{1}{m}\\sum\\limits_{i=1}^m (Wx^{(i)}) - y^{(i)})^2$$"
   ]
  },
  {
   "cell_type": "code",
   "execution_count": 1,
   "metadata": {
    "collapsed": false
   },
   "outputs": [],
   "source": [
    "import tensorflow as tf\n",
    "import matplotlib.pylab as plt\n",
    "\n",
    "# tf Graph Input\n",
    "X = [1., 2., 3.]\n",
    "Y = [1., 2., 3.]\n",
    "m = n_samples = len(X)\n",
    "\n",
    "# Set modle weights\n",
    "W = tf.placeholder(tf.float32)"
   ]
  },
  {
   "cell_type": "markdown",
   "metadata": {},
   "source": [
    "$H(x) = Wx$"
   ]
  },
  {
   "cell_type": "code",
   "execution_count": 2,
   "metadata": {
    "collapsed": true
   },
   "outputs": [],
   "source": [
    "# Construct a linear modle\n",
    "hypothesis = tf.mul(X, W)"
   ]
  },
  {
   "cell_type": "markdown",
   "metadata": {},
   "source": [
    "$cost(W) = \\frac{1}{m}\\sum\\limits_{i=1}^m (Wx^{(i)}) - y^{(i)})^2$"
   ]
  },
  {
   "cell_type": "code",
   "execution_count": 3,
   "metadata": {
    "collapsed": false
   },
   "outputs": [],
   "source": [
    "# Cost function\n",
    "cost = tf.reduce_sum(tf.pow(hypothesis - Y, 2)) / (m)"
   ]
  },
  {
   "cell_type": "code",
   "execution_count": 4,
   "metadata": {
    "collapsed": false
   },
   "outputs": [],
   "source": [
    "# Initalizing the variables\n",
    "init = tf.global_variables_initializer()"
   ]
  },
  {
   "cell_type": "markdown",
   "metadata": {},
   "source": [
    "기록을 위한 변수를 만듦"
   ]
  },
  {
   "cell_type": "code",
   "execution_count": 5,
   "metadata": {
    "collapsed": true
   },
   "outputs": [],
   "source": [
    "# For graphs\n",
    "W_val = []\n",
    "cost_val = []"
   ]
  },
  {
   "cell_type": "code",
   "execution_count": 6,
   "metadata": {
    "collapsed": false
   },
   "outputs": [
    {
     "name": "stdout",
     "output_type": "stream",
     "text": [
      "-3.0 74.6667\n",
      "-2.9000000000000004 70.98\n",
      "-2.8000000000000003 67.3867\n",
      "-2.7 63.8867\n",
      "-2.6 60.48\n",
      "-2.5 57.1667\n",
      "-2.4000000000000004 53.9467\n",
      "-2.3000000000000003 50.82\n",
      "-2.2 47.7867\n",
      "-2.1 44.8467\n",
      "-2.0 42.0\n",
      "-1.9000000000000001 39.2467\n",
      "-1.8 36.5867\n",
      "-1.7000000000000002 34.02\n",
      "-1.6 31.5467\n",
      "-1.5 29.1667\n",
      "-1.4000000000000001 26.88\n",
      "-1.3 24.6867\n",
      "-1.2000000000000002 22.5867\n",
      "-1.1 20.58\n",
      "-1.0 18.6667\n",
      "-0.9 16.8467\n",
      "-0.8 15.12\n",
      "-0.7000000000000001 13.4867\n",
      "-0.6000000000000001 11.9467\n",
      "-0.5 10.5\n",
      "-0.4 9.14667\n",
      "-0.30000000000000004 7.88667\n",
      "-0.2 6.72\n",
      "-0.1 5.64667\n",
      "0.0 4.66667\n",
      "0.1 3.78\n",
      "0.2 2.98667\n",
      "0.30000000000000004 2.28667\n",
      "0.4 1.68\n",
      "0.5 1.16667\n",
      "0.6000000000000001 0.746667\n",
      "0.7000000000000001 0.42\n",
      "0.8 0.186667\n",
      "0.9 0.0466667\n",
      "1.0 0.0\n",
      "1.1 0.0466667\n",
      "1.2000000000000002 0.186667\n",
      "1.3 0.42\n",
      "1.4000000000000001 0.746666\n",
      "1.5 1.16667\n",
      "1.6 1.68\n",
      "1.7000000000000002 2.28667\n",
      "1.8 2.98667\n",
      "1.9000000000000001 3.78\n",
      "2.0 4.66667\n",
      "2.1 5.64667\n",
      "2.2 6.72\n",
      "2.3000000000000003 7.88667\n",
      "2.4000000000000004 9.14667\n",
      "2.5 10.5\n",
      "2.6 11.9467\n",
      "2.7 13.4867\n",
      "2.8000000000000003 15.12\n",
      "2.9000000000000004 16.8467\n",
      "3.0 18.6667\n",
      "3.1 20.58\n",
      "3.2 22.5867\n",
      "3.3000000000000003 24.6867\n",
      "3.4000000000000004 26.88\n",
      "3.5 29.1667\n",
      "3.6 31.5467\n",
      "3.7 34.02\n",
      "3.8000000000000003 36.5867\n",
      "3.9000000000000004 39.2467\n",
      "4.0 42.0\n",
      "4.1000000000000005 44.8467\n",
      "4.2 47.7867\n",
      "4.3 50.82\n",
      "4.4 53.9467\n",
      "4.5 57.1667\n",
      "4.6000000000000005 60.48\n",
      "4.7 63.8867\n",
      "4.800000000000001 67.3867\n",
      "4.9 70.98\n"
     ]
    }
   ],
   "source": [
    "# Launch the graph\n",
    "sess = tf.Session()\n",
    "sess.run(init)\n",
    "for i in range(-30, 50) :\n",
    "    # -3에서 5까지 0.1 단위로 돎\n",
    "    print (i * 0.1, sess.run(cost, feed_dict={W: i * 0.1}))\n",
    "    W_val.append(i * 0.1)\n",
    "    cost_val.append(sess.run(cost, feed_dict={W: i * 0.1}))"
   ]
  },
  {
   "cell_type": "code",
   "execution_count": 7,
   "metadata": {
    "collapsed": false
   },
   "outputs": [
    {
     "data": {
      "image/png": "[encoded data removed]",
      "text/plain": [
       "<matplotlib.figure.Figure at 0x7f591e3d1dd8>"
      ]
     },
     "metadata": {},
     "output_type": "display_data"
    }
   ],
   "source": [
    "# Graphic display\n",
    "plt.plot(W_val, cost_val, 'ro')\n",
    "plt.ylabel('Cost')\n",
    "plt.xlabel('W')\n",
    "plt.show()"
   ]
  },
  {
   "cell_type": "markdown",
   "metadata": {},
   "source": [
    "## Placeholder\n",
    "\n",
    "$$W := W - \\alpha\\frac{1}{m}\\sum\\limits_{i=1}^m (W(x^{(i)}) - y^{(i)})x^{(i)}$$\n",
    "\n",
    "$\\alpha$\n",
    " * step의 크기\n",
    " * 얼만큼 내려갈것인가?\n",
    " \n",
    "$(W(x^{(i)}) - y^{(i)})x^{(i)}$\n",
    " * 함수를 미분한 값\n",
    " * 기울기 값"
   ]
  },
  {
   "cell_type": "code",
   "execution_count": 8,
   "metadata": {
    "collapsed": true
   },
   "outputs": [],
   "source": [
    "x_data = [1., 2., 3.]\n",
    "y_data = [1., 2., 3.]"
   ]
  },
  {
   "cell_type": "code",
   "execution_count": 9,
   "metadata": {
    "collapsed": true
   },
   "outputs": [],
   "source": [
    "# Try to find values for W and b that cmpute y_dta = W * x_data + b\n",
    "# (We know that W should be 1 and b 0, but Tensorflow will\n",
    "# figure that out for us.)\n",
    "W = tf.Variable(tf.random_uniform([1], -10.0, 10.0))\n",
    "\n",
    "X = tf.placeholder(tf.float32)\n",
    "Y = tf.placeholder(tf.float32)\n",
    "\n",
    "# Our hypothesis\n",
    "hypothesis = W * X"
   ]
  },
  {
   "cell_type": "code",
   "execution_count": 10,
   "metadata": {
    "collapsed": true
   },
   "outputs": [],
   "source": [
    "# Simplified cost function\n",
    "cost = tf. reduce_mean(tf.square(hypothesis - Y))"
   ]
  },
  {
   "cell_type": "markdown",
   "metadata": {},
   "source": [
    "$W := W - \\alpha\\frac{1}{m}\\sum\\limits_{i=1}^m (W(x^{(i)}) - y^{(i)})x^{(i)}$"
   ]
  },
  {
   "cell_type": "code",
   "execution_count": 12,
   "metadata": {
    "collapsed": false
   },
   "outputs": [],
   "source": [
    "descent = W - tf.mul(0.1, tf.reduce_mean(tf.mul((tf.mul(W, X) - Y), X)))"
   ]
  },
  {
   "cell_type": "markdown",
   "metadata": {},
   "source": [
    "실제 업데이트를 하는것이아니라 수식만 가지고 있음.\n",
    "실제 없데이트는 run을 해야함"
   ]
  },
  {
   "cell_type": "code",
   "execution_count": 13,
   "metadata": {
    "collapsed": true
   },
   "outputs": [],
   "source": [
    "update = W.assign(descent)"
   ]
  },
  {
   "cell_type": "code",
   "execution_count": 14,
   "metadata": {
    "collapsed": false
   },
   "outputs": [],
   "source": [
    "# Before stating, initialize the variables, We will 'run' this first.\n",
    "init = tf.global_variables_initializer()"
   ]
  },
  {
   "cell_type": "code",
   "execution_count": 15,
   "metadata": {
    "collapsed": false
   },
   "outputs": [
    {
     "name": "stdout",
     "output_type": "stream",
     "text": [
      "0 71.1188 [ 4.90381241]\n",
      "5 0.132425 [ 1.16845441]\n",
      "10 0.000246582 [ 1.00726902]\n",
      "15 4.58984e-07 [ 1.00031364]\n",
      "20 8.6186e-10 [ 1.00001359]\n",
      "25 1.80478e-12 [ 1.0000006]\n",
      "30 0.0 [ 1.]\n",
      "35 0.0 [ 1.]\n",
      "40 0.0 [ 1.]\n",
      "45 0.0 [ 1.]\n",
      "50 0.0 [ 1.]\n",
      "55 0.0 [ 1.]\n",
      "60 0.0 [ 1.]\n",
      "65 0.0 [ 1.]\n",
      "70 0.0 [ 1.]\n",
      "75 0.0 [ 1.]\n",
      "80 0.0 [ 1.]\n",
      "85 0.0 [ 1.]\n",
      "90 0.0 [ 1.]\n",
      "95 0.0 [ 1.]\n",
      "100 0.0 [ 1.]\n"
     ]
    }
   ],
   "source": [
    "sess = tf.Session()\n",
    "sess.run(init)\n",
    "\n",
    "# Fit the line.\n",
    "for step in range(101):\n",
    "    sess.run(update, feed_dict={X:x_data, Y:y_data})\n",
    "    if (step % 5 == 0) :\n",
    "        print (step, sess.run(cost, feed_dict={X:x_data, Y:y_data}), sess.run(W))"
   ]
  },
  {
   "cell_type": "markdown",
   "metadata": {},
   "source": [
    "$W$가 1, $cost$가 0이 이됨  \n",
    "=> 답을 찾음"
   ]
  }
 ],
 "metadata": {
  "kernelspec": {
   "display_name": "Python 3",
   "language": "python",
   "name": "python3"
  },
  "language_info": {
   "codemirror_mode": {
    "name": "ipython",
    "version": 3
   },
   "file_extension": ".py",
   "mimetype": "text/x-python",
   "name": "python",
   "nbconvert_exporter": "python",
   "pygments_lexer": "ipython3",
   "version": "3.4.3"
  }
 },
 "nbformat": 4,
 "nbformat_minor": 1
}
