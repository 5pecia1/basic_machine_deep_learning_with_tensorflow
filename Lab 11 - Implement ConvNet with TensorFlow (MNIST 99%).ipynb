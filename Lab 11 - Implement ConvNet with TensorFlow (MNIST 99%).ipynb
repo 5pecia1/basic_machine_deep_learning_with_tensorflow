{
 "cells": [
  {
   "cell_type": "markdown",
   "metadata": {},
   "source": [
    "## CNN\n",
    "\n",
    "필터의 size는 마음대로 하면 된다\n",
    "\n",
    "```\n",
    "w = tf.Variable(tf.random_normal([3,3,1,32], stddev=0.01))\n",
    "```\n",
    "=>  \n",
    "tensorflow에는 쉽게 사용할 수 있는 함수가 있다\n",
    "\n",
    "```\n",
    "tf.nn.conv2d(X, w, strides=[1, 1, 1, 1], padding='SAME')\n",
    "```\n",
    "strides = [1, 옆으로 몇 칸씩, 밑으로 몇 칸씩, 1]  \n",
    "padding은 숫자로 주지 않고 'SAME' 과 'VALID'가 있다.  \n",
    "'SAME' 원래 이미지와 같은 크기의 Activation Map을 만들어 주겠다는 의미"
   ]
  },
  {
   "cell_type": "code",
   "execution_count": 1,
   "metadata": {
    "collapsed": false
   },
   "outputs": [],
   "source": [
    "import tensorflow as tf\n",
    "import numpy as np\n",
    "from tensorflow.examples.tutorials.mnist import input_data"
   ]
  },
  {
   "cell_type": "code",
   "execution_count": 2,
   "metadata": {
    "collapsed": true
   },
   "outputs": [],
   "source": [
    "learning_rate = 0.001\n",
    "training_epochs = 15\n",
    "batch_size = 100\n",
    "display_step = 1"
   ]
  },
  {
   "cell_type": "code",
   "execution_count": 3,
   "metadata": {
    "collapsed": true
   },
   "outputs": [],
   "source": [
    "X = tf.placeholder(\"float\", [None, 784]) # mnist data image of shape 28*28=784\n",
    "Y = tf.placeholder(\"float\", [None, 10]) # 0-9 digits recognition => 10 classes"
   ]
  },
  {
   "cell_type": "code",
   "execution_count": 4,
   "metadata": {
    "collapsed": true
   },
   "outputs": [],
   "source": [
    "def init_weight(conv_fileter_array):\n",
    "    return tf.Variable(tf.random_normal(conv_fileter_array, stddev=0.01))"
   ]
  },
  {
   "cell_type": "code",
   "execution_count": 5,
   "metadata": {
    "collapsed": false
   },
   "outputs": [],
   "source": [
    "w = init_weight([3,3,1,32]) # 3x3x1 conv, 32 ouputs\n",
    "w2 = init_weight([3,3,32,64]) # 3x3x32 conv, 64 outputs\n",
    "w3 = init_weight([3,3,64,128]) # 3x3x54 conv, 128 outputs"
   ]
  },
  {
   "cell_type": "code",
   "execution_count": 6,
   "metadata": {
    "collapsed": false
   },
   "outputs": [],
   "source": [
    "X_image = tf.reshape(X, [-1, 28, 28, 1]) # -1 : n개의 입력, 28 x 28, color code : 1"
   ]
  },
  {
   "cell_type": "code",
   "execution_count": 7,
   "metadata": {
    "collapsed": true
   },
   "outputs": [],
   "source": [
    "def relu_conv2d(x, w, strides):\n",
    "    return tf.nn.relu(tf.nn.conv2d(x, w, strides=strides, padding='SAME'))"
   ]
  },
  {
   "cell_type": "code",
   "execution_count": 8,
   "metadata": {
    "collapsed": false
   },
   "outputs": [],
   "source": [
    "stride1 = [1, 1, 1, 1]\n",
    "stride2 = [1, 2, 2, 1]\n",
    "\n",
    "p_keep_conv = tf.placeholder('float')\n",
    "p_keep_hidden = tf.placeholder(\"float\")\n",
    "\n",
    "l1a = relu_conv2d(X_image, w, stride1) # l1a shape=(?, 28, 28, 32)\n",
    "l1 = tf.nn.max_pool(l1a, ksize=stride2, strides=stride2, padding='SAME') # l1 shape=(?, 14, 14, 32)\n",
    "l1 = tf.nn.dropout(l1, p_keep_conv)\n",
    "\n",
    "l2a = relu_conv2d(l1, w2, stride1) # l2a shape=(?, 14, 14, 64)\n",
    "l2 = tf.nn.max_pool(l2a, ksize=stride2, strides=stride2, padding='SAME') # l2 shape=(?, 7, 7, 64)\n",
    "l2 = tf.nn.dropout(l2, p_keep_conv)\n",
    "\n",
    "l3a = relu_conv2d(l2, w3, stride1) # l3a shape=(?, 7, 7, 128)\n",
    "l3 = tf.nn.max_pool(l3a, ksize=stride2, strides=stride2, padding='SAME') # l3 shape=(?, 4, 4, 128)"
   ]
  },
  {
   "cell_type": "markdown",
   "metadata": {},
   "source": [
    "## Fully connected net"
   ]
  },
  {
   "cell_type": "code",
   "execution_count": 9,
   "metadata": {
    "collapsed": true
   },
   "outputs": [],
   "source": [
    "w4 = init_weight([128 * 4 * 4, 625]) # FC 128 * 4 * 4 inputs, 625 outputs\n",
    "w_o = init_weight([625, 10]) # FC 625 inputs, 10 outputs\n",
    "\n",
    "l3 = tf.reshape(l3, [-1, w4.get_shape().as_list()[0]]) # 펴주는 역할, reshape to (?, 2048)\n",
    "l3 = tf.nn.dropout(l3, p_keep_conv)\n",
    "\n",
    "l4 = tf.nn.relu(tf.matmul(l3, w4))\n",
    "l4 = tf.nn.dropout(l4, p_keep_hidden)\n",
    "py_x = tf.matmul(l4, w_o) # y bar"
   ]
  },
  {
   "cell_type": "code",
   "execution_count": 10,
   "metadata": {
    "collapsed": true
   },
   "outputs": [],
   "source": [
    "cost = tf.reduce_mean(tf.nn.softmax_cross_entropy_with_logits(py_x, Y))\n",
    "train_op = tf.train.RMSPropOptimizer(learning_rate, 0.9).minimize(cost)"
   ]
  },
  {
   "cell_type": "markdown",
   "metadata": {},
   "source": [
    " ### use another optimizer  \n",
    " \n",
    "* GradientDescent  \n",
    "* Adadelta  \n",
    "* Adagrad  \n",
    "* Momentum  \n",
    "* Adam  \n",
    "* Ftrl  \n",
    "* RMSP"
   ]
  },
  {
   "cell_type": "code",
   "execution_count": 11,
   "metadata": {
    "collapsed": false
   },
   "outputs": [
    {
     "name": "stdout",
     "output_type": "stream",
     "text": [
      "Extracting train_data/MNIST_data/train-images-idx3-ubyte.gz\n",
      "Extracting train_data/MNIST_data/train-labels-idx1-ubyte.gz\n",
      "Extracting train_data/MNIST_data/t10k-images-idx3-ubyte.gz\n",
      "Extracting train_data/MNIST_data/t10k-labels-idx1-ubyte.gz\n"
     ]
    }
   ],
   "source": [
    "mnist = input_data.read_data_sets(\"train_data/MNIST_data/\", one_hot=True)"
   ]
  },
  {
   "cell_type": "code",
   "execution_count": 12,
   "metadata": {
    "collapsed": true
   },
   "outputs": [],
   "source": [
    "init = tf.global_variables_initializer()\n",
    "\n",
    "sess = tf.Session()\n",
    "sess.run(init)"
   ]
  },
  {
   "cell_type": "code",
   "execution_count": 13,
   "metadata": {
    "collapsed": false
   },
   "outputs": [
    {
     "name": "stdout",
     "output_type": "stream",
     "text": [
      "Epoch: 0001 cost= 0.993453501\n",
      "Epoch: 0002 cost= 0.059542507\n",
      "Epoch: 0003 cost= 0.035192681\n",
      "Epoch: 0004 cost= 0.025442494\n",
      "Epoch: 0005 cost= 0.022640701\n",
      "Epoch: 0006 cost= 0.019629148\n",
      "Epoch: 0007 cost= 0.018035898\n",
      "Epoch: 0008 cost= 0.015763352\n",
      "Epoch: 0009 cost= 0.013936277\n",
      "Epoch: 0010 cost= 0.014627520\n",
      "Epoch: 0011 cost= 0.014389292\n",
      "Epoch: 0012 cost= 0.013688243\n",
      "Epoch: 0013 cost= 0.014286589\n",
      "Epoch: 0014 cost= 0.013022557\n",
      "Epoch: 0015 cost= 0.012090100\n",
      "Optimization Finished!\n"
     ]
    }
   ],
   "source": [
    "# Training cycle\n",
    "for epoch in range(training_epochs):\n",
    "    avg_cost = 0;\n",
    "    total_batch = int(mnist.train.num_examples/batch_size)\n",
    "\n",
    "    # Loop over all batches\n",
    "    for i in range(total_batch) :\n",
    "        batch_xs, batch_ys = mnist.train.next_batch(batch_size)\n",
    "\n",
    "        # Fit training using batch data\n",
    "        sess.run(train_op, feed_dict = {X: batch_xs, Y: batch_ys, p_keep_conv: 0.8, p_keep_hidden: 0.5})\n",
    "        avg_cost += sess.run(cost, feed_dict = {X: batch_xs, Y: batch_ys, p_keep_conv: 0.8, p_keep_hidden: 0.5})/total_batch\n",
    "\n",
    "    if epoch % display_step == 0:\n",
    "        print (\"Epoch:\", '%04d' % (epoch+1), \"cost=\", \"{:.9f}\".format(avg_cost))\n",
    "\n",
    "print (\"Optimization Finished!\")"
   ]
  },
  {
   "cell_type": "code",
   "execution_count": 14,
   "metadata": {
    "collapsed": false
   },
   "outputs": [
    {
     "name": "stdout",
     "output_type": "stream",
     "text": [
      "Accuracy:  0.9937\n"
     ]
    }
   ],
   "source": [
    "# Test model\n",
    "correct_prediction = tf.equal(tf.argmax(py_x, 1), tf.argmax(Y, 1))\n",
    "# Calcuate accuracy\n",
    "accuracy = tf.reduce_mean(tf.cast(correct_prediction, \"float\"))\n",
    "print (\"Accuracy: \", accuracy.eval({X: mnist.test.images, Y: mnist.test.labels, p_keep_conv: 1.0, p_keep_hidden: 1.0}, session=sess))"
   ]
  }
 ],
 "metadata": {
  "kernelspec": {
   "display_name": "Python 3",
   "language": "python",
   "name": "python3"
  },
  "language_info": {
   "codemirror_mode": {
    "name": "ipython",
    "version": 3
   },
   "file_extension": ".py",
   "mimetype": "text/x-python",
   "name": "python",
   "nbconvert_exporter": "python",
   "pygments_lexer": "ipython3",
   "version": "3.4.3"
  }
 },
 "nbformat": 4,
 "nbformat_minor": 2
}
