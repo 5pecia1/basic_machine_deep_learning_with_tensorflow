{
 "cells": [
  {
   "cell_type": "markdown",
   "metadata": {},
   "source": [
    "## 5 steps of using tensorboard\n",
    "\n",
    "* From TF graph, decide which node you want to annotate\n",
    " - with tf.name_scope(\"test\") as scope: # Node name\n",
    " - tf.hisogram_summary(\"weights\", W)  # 스칼라 값이 아닌 값\n",
    " - tf.scalar_summary(\"accuracy\", accuracy) # 하나의 스칼라 값\n",
    "* Merge all summaries\n",
    " - merged = tf.merge_all_summaries() # 모든 정의해놓은 summary data들을 merge해서 하나의 operation으로 연결을 시켜 줌\n",
    "* Create writer\n",
    " - writer = tf.train.SummaryWriter(\"/tmp/mnist_logs\", sess.graph_def) # 어디에다 쓸건지 정해줌\n",
    "* Run summary merge and add_summary\n",
    " - summary = sess.run(merged,...); writer.add_summary(summary); # 실행, 실행결과 작성\n",
    "* Launch Tensorboard\n",
    " - tensorboard --logdir=/tmp/mnist_logs # 결과 보기"
   ]
  },
  {
   "cell_type": "code",
   "execution_count": 1,
   "metadata": {
    "collapsed": true
   },
   "outputs": [],
   "source": [
    "import tensorflow as tf\n",
    "import numpy as np"
   ]
  },
  {
   "cell_type": "markdown",
   "metadata": {},
   "source": [
    "### Name variables"
   ]
  },
  {
   "cell_type": "code",
   "execution_count": 2,
   "metadata": {
    "collapsed": false
   },
   "outputs": [],
   "source": [
    "xy = np.loadtxt('train_data/lab9-1_train.txt', unpack=True)\n",
    "\n",
    "x_data = np.transpose(xy[0:-1])\n",
    "y_data = np.reshape(xy[-1], (4,1))\n",
    "\n",
    "X = tf.placeholder(tf.float32, name=\"X-input\")\n",
    "Y = tf.placeholder(tf.float32, name=\"Y-input\")\n",
    "\n",
    "W1 = tf.Variable(tf.truncated_normal([2,2], dtype=tf.float32), name='Weight1')\n",
    "W2 = tf.Variable(tf.truncated_normal([2,1], dtype=tf.float32), name='Weight2')\n",
    "\n",
    "b1 = tf.Variable(tf.zeros([2]), name=\"Bias1\")\n",
    "b2= tf.Variable(tf.zeros([1]), name=\"Bias2\")"
   ]
  },
  {
   "cell_type": "markdown",
   "metadata": {},
   "source": [
    "### Add cope for better graph hierarch"
   ]
  },
  {
   "cell_type": "code",
   "execution_count": 3,
   "metadata": {
    "collapsed": false
   },
   "outputs": [],
   "source": [
    "# Our hypothesis\n",
    "with tf.name_scope(\"layer2\") as scope:\n",
    "    L2 = tf.sigmoid(tf.matmul(X, W1) + b1)\n",
    "    \n",
    "with tf.name_scope(\"hypohesis\") as scope:\n",
    "    hypothesis = tf.sigmoid(tf.matmul(L2, W2) + b2)\n",
    "    \n",
    "# cost function\n",
    "with tf.name_scope(\"cost\") as scope:\n",
    "    cost = tf.reduce_mean(tf.nn.softmax_cross_entropy_with_logits(labels=Y, logits=hypothesis))\n",
    "    cost_summ = tf.summary.scalar(\"cost\", cost)\n",
    "\n",
    "# Minimize\n",
    "a = tf.Variable(0.01) # Learning rate, alpha\n",
    "with tf.name_scope(\"train\") as scope:\n",
    "    optimizer = tf.train.GradientDescentOptimizer(a)\n",
    "    train = optimizer.minimize(cost)"
   ]
  },
  {
   "cell_type": "markdown",
   "metadata": {},
   "source": [
    "### Add histogram"
   ]
  },
  {
   "cell_type": "code",
   "execution_count": 4,
   "metadata": {
    "collapsed": false
   },
   "outputs": [],
   "source": [
    "w1_hist = tf.summary.histogram(\"weights1\", W1)\n",
    "w2_hist = tf.summary.histogram(\"weights2\", W2)\n",
    "\n",
    "b1_hist = tf.summary.histogram(\"biases1\", b1)\n",
    "b2_hist = tf.summary.histogram(\"biases2\", b2)\n",
    "\n",
    "y_hist = tf.summary.histogram(\"y\", Y)"
   ]
  },
  {
   "cell_type": "code",
   "execution_count": 5,
   "metadata": {
    "collapsed": true
   },
   "outputs": [],
   "source": [
    "init = tf.global_variables_initializer()"
   ]
  },
  {
   "cell_type": "markdown",
   "metadata": {},
   "source": [
    "### merge summaries and crate writer after creating session & run merged summary and write (add summary)"
   ]
  },
  {
   "cell_type": "code",
   "execution_count": 6,
   "metadata": {
    "collapsed": false
   },
   "outputs": [
    {
     "name": "stdout",
     "output_type": "stream",
     "text": [
      "[array([[ 0.00042616],\n",
      "       [ 0.00045262],\n",
      "       [ 0.00043793],\n",
      "       [ 0.00053859]], dtype=float32), array([[ 0.],\n",
      "       [ 0.],\n",
      "       [ 0.],\n",
      "       [ 0.]], dtype=float32), array([[ True],\n",
      "       [False],\n",
      "       [False],\n",
      "       [ True]], dtype=bool), 0.5]\n",
      "Accuracy: 0.5\n"
     ]
    }
   ],
   "source": [
    "# Launch the graph\n",
    "with tf.Session() as sess:\n",
    "    \n",
    "    # tensorboard --logdir=./logs/xor_logs\n",
    "    merged = tf.summary.merge_all()\n",
    "    writer = tf.summary.FileWriter(\"./logs/xor_logs\", sess.graph)\n",
    "    \n",
    "    sess.run(init)\n",
    "    \n",
    "    # fit the line.\n",
    "    for step in range(100010001000):\n",
    "        sess.run(train, feed_dict={X:x_data, Y:y_data})\n",
    "        if step % 4000 == 0:\n",
    "            summary, _ = sess.run([merged, train], feed_dict={X:x_data, Y:y_data})\n",
    "            writer.add_summary(summary, step)\n",
    "            \n",
    "    # Test model\n",
    "    correct_prediction = tf.equal(tf.floor(hypothesis + 0.5), Y)\n",
    "    # Calculate accuracy\n",
    "    accuracy = tf.reduce_mean(tf.cast(correct_prediction, \"float\"))\n",
    "    print(sess.run([hypothesis, tf.floor(hypothesis+0.5), correct_prediction, accuracy], feed_dict={X:x_data, Y:y_data}))\n",
    "    print(\"Accuracy:\", accuracy.eval({X:x_data, Y:y_data}))"
   ]
  },
  {
   "cell_type": "markdown",
   "metadata": {},
   "source": [
    "### Launch tensorboard\n",
    "\n",
    "* tensorboard --logdir=/logs/xor_logs\n",
    "* (You can navigate to http://localhost.6006)"
   ]
  }
 ],
 "metadata": {
  "kernelspec": {
   "display_name": "Python 3",
   "language": "python",
   "name": "python3"
  },
  "language_info": {
   "codemirror_mode": {
    "name": "ipython",
    "version": 3
   },
   "file_extension": ".py",
   "mimetype": "text/x-python",
   "name": "python",
   "nbconvert_exporter": "python",
   "pygments_lexer": "ipython3",
   "version": "3.4.3"
  }
 },
 "nbformat": 4,
 "nbformat_minor": 2
}
